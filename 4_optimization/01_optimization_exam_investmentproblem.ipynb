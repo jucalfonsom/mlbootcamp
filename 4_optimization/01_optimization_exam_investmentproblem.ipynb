{
  "nbformat": 4,
  "nbformat_minor": 0,
  "metadata": {
    "colab": {
      "provenance": []
    },
    "kernelspec": {
      "name": "python3",
      "display_name": "Python 3"
    }
  },
  "cells": [
    {
      "cell_type": "markdown",
      "metadata": {
        "id": "XTaFsT2ryrr-"
      },
      "source": [
        "# Descripción del problema\n",
        "Una persona puede invertir en 7 distintas inversiones. Cada una de ellas le ofrece una ganancia a un plazo de un año, pero requiere de un monto fijo a invertir, los detalles se muestran enseguida:\n",
        "\n",
        "|          | Inversión 1 | Inversión 2 | Inversión 3 | Inversión 4 | Inversión 5 | Inversión 6 | Inversión 7 |\n",
        "|---|---|---|---|---|---|---|---|\n",
        "|Ganancia (en miles de pesos) | 12| 8 | 17 | 11 |6 |2 | 2|\n",
        "|Monto a invertir (en miles de pesos) |4|3|7|5|3|2|3|\n",
        "\n",
        "Si la persona dispone únicamente de un capital de $17,000, ¿cuáles inversiones debe elegir para maximizar sus ganancias?"
      ]
    },
    {
      "cell_type": "markdown",
      "metadata": {
        "id": "cAz_tcLgzY1q"
      },
      "source": [
        "## 1. Realice la modelación del problema (8 pts)\n",
        "En cada una de las siguientes celdas, agregue una descripción correspondiente para explicar el contenido y la ecuación matemática que represente la parte del modelo en cuestión."
      ]
    },
    {
      "cell_type": "markdown",
      "metadata": {
        "id": "oWnhHNOADK8L"
      },
      "source": [
        "### Conjuntos\n",
        "$I$: Conjunto de las posibles inversiones que podemos realizar: {Inversión 1. Inversión 2, Inversión 3, Inversión 4, Inversión 5, Inversión 6, Inversión 7}. Representaremos respectivamente a $I$ como $$I=\\{1, 2, 3, 4, 5, 6, 7\\}$$ donde $i\\in I$ representa a uno de los elementos en $I$."
      ]
    },
    {
      "cell_type": "markdown",
      "metadata": {
        "id": "x8ktF6I8DGMo"
      },
      "source": [
        "### Parámetros\n",
        "Los parámetros considerados en el presente modelo son:\n",
        "* $P$: La cantidad disponible en miles de pesos para hacer las inversiones. $$P=17$$\n",
        "\n",
        "* $G_i$: La ganancia en miles de pesos que implica hacer la inversión $i\\in I$.\n",
        "\n",
        "* $M_i$: El monto inicial necesario para poder realizar la inversión $i\\in I$.\n",
        "\n",
        "Estos parámetros están presentes en la descripción del problema."
      ]
    },
    {
      "cell_type": "markdown",
      "metadata": {
        "id": "3UgOAlFRz2xU"
      },
      "source": [
        "### Variables de decisión\n",
        "La variable de decisión utilizada para este modelo será\n",
        "\\begin{equation}c_i = \\left \\{ \\begin{matrix} 1 & \\text{si se elige la inversión }i\n",
        "\\\\ 0 & \\text{si no}\\end{matrix}\\right.\\end{equation}"
      ]
    },
    {
      "cell_type": "markdown",
      "metadata": {
        "id": "StqlUyN9z_h3"
      },
      "source": [
        "### Función objetivo\n",
        "Maximizar ganancia en inversiones:\n",
        "$$\\text{max}\\sum_{i=1}^{7} c_i \\cdot G_i$$"
      ]
    },
    {
      "cell_type": "markdown",
      "metadata": {
        "id": "4OL5mceS0DPX"
      },
      "source": [
        "### Restricciones\n",
        "* La del monto disponible en miles de pesos para realizar las inversiones: $$\\sum_{i=1}^{7}c_i \\cdot M_i \\leq P$$"
      ]
    },
    {
      "cell_type": "markdown",
      "metadata": {
        "id": "g0551koa0HNH"
      },
      "source": [
        "## 2. Utilice la librería `pulp` para determinar la solución del modelo (4pts)\n",
        "En cada una de las siguientes celdas agregue el código indicado en el comentario"
      ]
    },
    {
      "cell_type": "markdown",
      "metadata": {
        "id": "r_KIkgWp93jc"
      },
      "source": [
        "### Cargar los archivos de Google Drive e instalar biblioteca `pulp`\n",
        "Primero importaremos los documentos fuente a Google Colab desde la carpeta de Google Drive."
      ]
    },
    {
      "cell_type": "code",
      "metadata": {
        "id": "4ZgJwwhi-aHr",
        "outputId": "00cfa444-a386-44cc-96ba-87b2db3a1e68",
        "colab": {
          "base_uri": "https://localhost:8080/",
          "height": 34
        }
      },
      "source": [
        "from google.colab import drive\n",
        "drive.mount('/content/gdrive/')"
      ],
      "execution_count": null,
      "outputs": [
        {
          "output_type": "stream",
          "text": [
            "Mounted at /content/gdrive/\n"
          ],
          "name": "stdout"
        }
      ]
    },
    {
      "cell_type": "markdown",
      "metadata": {
        "id": "uEacxhuG-fA_"
      },
      "source": [
        "Ahora verificaremos que podemos acceder a nuestros documentos."
      ]
    },
    {
      "cell_type": "code",
      "metadata": {
        "id": "hlMR3THN-tcp",
        "outputId": "d2cb7328-7e7c-458d-97b0-a0fbab95be90",
        "colab": {
          "base_uri": "https://localhost:8080/",
          "height": 34
        }
      },
      "source": [
        "!ls \"gdrive/My Drive/Colab Notebooks/Investigación de Operaciones/Examen_1\""
      ],
      "execution_count": null,
      "outputs": [
        {
          "output_type": "stream",
          "text": [
            "ProblemaDeInversion.csv\n"
          ],
          "name": "stdout"
        }
      ]
    },
    {
      "cell_type": "markdown",
      "metadata": {
        "id": "tAEHV3Xj_I2u"
      },
      "source": [
        "Una vez verificados los documentos en nuestra carpeta, cargaremos la biblioteca `pandas` y nuestro archivo `ProblemaDeInversion.csv` que contiene los datos de la tabla de arriba."
      ]
    },
    {
      "cell_type": "code",
      "metadata": {
        "id": "AU-QEGND_LOY"
      },
      "source": [
        "import pandas as pd\n",
        "ProbInversion = pd.read_csv(\"gdrive/My Drive/Colab Notebooks/Investigación de Operaciones/Examen_1/ProblemaDeInversion.csv\")"
      ],
      "execution_count": null,
      "outputs": []
    },
    {
      "cell_type": "markdown",
      "metadata": {
        "id": "y1RBBiBq_mhG"
      },
      "source": [
        "Para verificar que los archivos fueron cargados correctamente, los mostramos dentro de nuestra Notebook de Python."
      ]
    },
    {
      "cell_type": "code",
      "metadata": {
        "id": "kRqXkRybAxAA",
        "outputId": "dbff1800-9e53-4da9-99d6-7f4a13314c1a",
        "colab": {
          "base_uri": "https://localhost:8080/",
          "height": 266
        }
      },
      "source": [
        "ProbInversion"
      ],
      "execution_count": null,
      "outputs": [
        {
          "output_type": "execute_result",
          "data": {
            "text/html": [
              "<div>\n",
              "<style scoped>\n",
              "    .dataframe tbody tr th:only-of-type {\n",
              "        vertical-align: middle;\n",
              "    }\n",
              "\n",
              "    .dataframe tbody tr th {\n",
              "        vertical-align: top;\n",
              "    }\n",
              "\n",
              "    .dataframe thead th {\n",
              "        text-align: right;\n",
              "    }\n",
              "</style>\n",
              "<table border=\"1\" class=\"dataframe\">\n",
              "  <thead>\n",
              "    <tr style=\"text-align: right;\">\n",
              "      <th></th>\n",
              "      <th>Ganancia</th>\n",
              "      <th>Inversion_Inicial</th>\n",
              "    </tr>\n",
              "  </thead>\n",
              "  <tbody>\n",
              "    <tr>\n",
              "      <th>0</th>\n",
              "      <td>12</td>\n",
              "      <td>4</td>\n",
              "    </tr>\n",
              "    <tr>\n",
              "      <th>1</th>\n",
              "      <td>8</td>\n",
              "      <td>3</td>\n",
              "    </tr>\n",
              "    <tr>\n",
              "      <th>2</th>\n",
              "      <td>17</td>\n",
              "      <td>7</td>\n",
              "    </tr>\n",
              "    <tr>\n",
              "      <th>3</th>\n",
              "      <td>11</td>\n",
              "      <td>5</td>\n",
              "    </tr>\n",
              "    <tr>\n",
              "      <th>4</th>\n",
              "      <td>6</td>\n",
              "      <td>3</td>\n",
              "    </tr>\n",
              "    <tr>\n",
              "      <th>5</th>\n",
              "      <td>2</td>\n",
              "      <td>2</td>\n",
              "    </tr>\n",
              "    <tr>\n",
              "      <th>6</th>\n",
              "      <td>2</td>\n",
              "      <td>3</td>\n",
              "    </tr>\n",
              "  </tbody>\n",
              "</table>\n",
              "</div>"
            ],
            "text/plain": [
              "   Ganancia  Inversion_Inicial\n",
              "0        12                  4\n",
              "1         8                  3\n",
              "2        17                  7\n",
              "3        11                  5\n",
              "4         6                  3\n",
              "5         2                  2\n",
              "6         2                  3"
            ]
          },
          "metadata": {
            "tags": []
          },
          "execution_count": 4
        }
      ]
    },
    {
      "cell_type": "markdown",
      "metadata": {
        "id": "9BltQjeWA4HG"
      },
      "source": [
        "Una vez cargados los datos, procederemos a instalar la biblioteca `pulp` en nuestra sesión de Colab. Importaremos las funciones `LpProblem`, `LpVariable`, `LpMaximize`, `LpStatus` y `lpSum`."
      ]
    },
    {
      "cell_type": "code",
      "metadata": {
        "id": "ZD3uymFb0YzI",
        "outputId": "0d49fb4f-218e-40f5-a548-3992de0f88c0",
        "colab": {
          "base_uri": "https://localhost:8080/",
          "height": 306
        }
      },
      "source": [
        "!pip install pulp\n",
        "from pulp import LpProblem, LpVariable, LpMaximize, LpStatus, lpSum"
      ],
      "execution_count": null,
      "outputs": [
        {
          "output_type": "stream",
          "text": [
            "Collecting pulp\n",
            "\u001b[?25l  Downloading https://files.pythonhosted.org/packages/c3/22/5743d7b5d69f84fb63a0b4925862522dbf80e82defcd0c447afb694f3fd0/PuLP-2.3-py3-none-any.whl (40.6MB)\n",
            "\u001b[K     |████████████████████████████████| 40.6MB 95kB/s \n",
            "\u001b[?25hCollecting amply>=0.1.2\n",
            "  Downloading https://files.pythonhosted.org/packages/7f/11/33cb09557ac838d9488779b79e05a2a3c1f3ce9747cd242ba68332736778/amply-0.1.2.tar.gz\n",
            "  Installing build dependencies ... \u001b[?25l\u001b[?25hdone\n",
            "  Getting requirements to build wheel ... \u001b[?25l\u001b[?25hdone\n",
            "    Preparing wheel metadata ... \u001b[?25l\u001b[?25hdone\n",
            "Requirement already satisfied: pyparsing in /usr/local/lib/python3.6/dist-packages (from amply>=0.1.2->pulp) (2.4.7)\n",
            "Requirement already satisfied: docutils>=0.3 in /usr/local/lib/python3.6/dist-packages (from amply>=0.1.2->pulp) (0.15.2)\n",
            "Building wheels for collected packages: amply\n",
            "  Building wheel for amply (PEP 517) ... \u001b[?25l\u001b[?25hdone\n",
            "  Created wheel for amply: filename=amply-0.1.2-cp36-none-any.whl size=16573 sha256=ea62fa4d27c91387f2a6a56cfdc012801975b414f0528a6baaea5ce1e5fe72b2\n",
            "  Stored in directory: /root/.cache/pip/wheels/84/18/f7/e5c3ed13ed5bb721763f77d4a924331d59ef115ce61c9d26eb\n",
            "Successfully built amply\n",
            "Installing collected packages: amply, pulp\n",
            "Successfully installed amply-0.1.2 pulp-2.3\n"
          ],
          "name": "stdout"
        }
      ]
    },
    {
      "cell_type": "markdown",
      "metadata": {
        "id": "u3x4HMzdB9gF"
      },
      "source": [
        "### Declarar el modelo y añadir todos sus parámetros y restricciones\n",
        "Ahora procederemos a **crear nuestro modelo principal**, el de maximizar la ganancia de nuestras inversiones. Como vamos a maximizar, al parámetro `sense` lo pondremos como `sense=LpMaximize`."
      ]
    },
    {
      "cell_type": "code",
      "metadata": {
        "id": "KYMpB3I00f5t"
      },
      "source": [
        "# Escribe aquí la declaración del modelo\n",
        "modelo = LpProblem(\"Modelo_Inversiones\", sense=LpMaximize)"
      ],
      "execution_count": null,
      "outputs": []
    },
    {
      "cell_type": "markdown",
      "metadata": {
        "id": "5jZM7AkjRAOn"
      },
      "source": [
        "Una vez creado nuestro modelo, necesitaremos **declarar nuestros parámetros** $G_i$ y $M_i$ y tomar sus datos del documento importado y añadirlo a nuestro modelo. Recordemos que `i` representa alguna inversión $i∈I$."
      ]
    },
    {
      "cell_type": "code",
      "metadata": {
        "id": "Pb6C2GmUKJq0"
      },
      "source": [
        "# Escribe aquí los parámetros del modelo\n",
        "var_G = {i: LpVariable(name=f\"G_{i+1}\") for i in range(7)}\n",
        "var_M = {i: LpVariable(name=f\"M_{i+1}\") for i in range(7)}\n",
        "for i in range(7):\n",
        "  var_G[i] = ProbInversion.Ganancia.iloc[i]\n",
        "  var_M[i] = ProbInversion.Inversion_Inicial.iloc[i]"
      ],
      "execution_count": null,
      "outputs": []
    },
    {
      "cell_type": "markdown",
      "metadata": {
        "id": "bacfCW33Tj4p"
      },
      "source": [
        "Declaramos nuestra **variable de decisión** $c_i$, donde `i` representa a alguna inversión $i \\in I$."
      ]
    },
    {
      "cell_type": "code",
      "metadata": {
        "id": "tmPWUHF70o7b"
      },
      "source": [
        "# Escribe aquí las variables de decisión\n",
        "var_c = {i: LpVariable(name=f\"c_{i+1}\", cat='Binary') for i in range(7)}"
      ],
      "execution_count": null,
      "outputs": []
    },
    {
      "cell_type": "markdown",
      "metadata": {
        "id": "jZUz5EwPSSUt"
      },
      "source": [
        "Una vez declaradas las variables y parámetros, añadiremos a nuestro modelo **la restricción** que definimos anteriormente."
      ]
    },
    {
      "cell_type": "code",
      "metadata": {
        "id": "Ap5p9Mw60tPS"
      },
      "source": [
        "# Escribe aquí las restricciones\n",
        "modelo += lpSum(var_c[i] * var_M[i] for i in range(7)) <= 17"
      ],
      "execution_count": null,
      "outputs": []
    },
    {
      "cell_type": "markdown",
      "metadata": {
        "id": "opb6S_ypS1lp"
      },
      "source": [
        "Ahora procederemos a añadir en nuestro modelo la **función objetivo** a la que queremos encontrarle solución y lo resolvemos utilizando la función `.solve()`. Guardamos nuestro modelo en la variable `solucion`. Verificamos que la solución sea óptima con la función `LpStatus`."
      ]
    },
    {
      "cell_type": "code",
      "metadata": {
        "id": "uIINWkPQ0wO0",
        "outputId": "e9fe1ec9-4796-4249-8c93-493d360de9c0",
        "colab": {
          "base_uri": "https://localhost:8080/",
          "height": 35
        }
      },
      "source": [
        "# Escribe aquí la función objetivo\n",
        "modelo += lpSum(var_c[i] * var_G[i] for i in range(7))\n",
        "solucion = modelo.solve()\n",
        "LpStatus[solucion]"
      ],
      "execution_count": null,
      "outputs": [
        {
          "output_type": "execute_result",
          "data": {
            "application/vnd.google.colaboratory.intrinsic+json": {
              "type": "string"
            },
            "text/plain": [
              "'Optimal'"
            ]
          },
          "metadata": {
            "tags": []
          },
          "execution_count": 10
        }
      ]
    },
    {
      "cell_type": "markdown",
      "metadata": {
        "id": "f2vD8_IOTQ7d"
      },
      "source": [
        "Imprimimos los resultados de nuestro modelo y las inversiones que se necesitan hacer para lograr maximizar las ganancias."
      ]
    },
    {
      "cell_type": "code",
      "metadata": {
        "id": "Tu8rOdKEN-zA",
        "outputId": "8e4e50d9-89eb-4c1c-f763-594b5c402e55",
        "colab": {
          "base_uri": "https://localhost:8080/",
          "height": 136
        }
      },
      "source": [
        "#Mayor ganancia al invertir los $ 17,000 de acuerdo con nuestro modelo\n",
        "inversion = 0\n",
        "for i in range(7):\n",
        "  inversion = var_c[i].value() * var_M[i] + inversion\n",
        "print(f\"La ganancia al haber hecho las inversiones es de:  $\", modelo.objective.value() * 1000)\n",
        "print(f\"Se realizó una inversión inicial de:  $\", inversion * 1000)\n",
        "print(\"Las inversiones que se necesitan hacer para lograr la ganancia anterior son las siguientes:\")\n",
        "for i in range(7):\n",
        "  if(var_c[i].value() == 1):\n",
        "    print(f\"   - Inversión #{i+1}\")"
      ],
      "execution_count": null,
      "outputs": [
        {
          "output_type": "stream",
          "text": [
            "La ganancia al haber hecho las inversiones es de:  $ 43000.0\n",
            "Se realizó una inversión inicial de:  $ 17000.0\n",
            "Las inversiones que se necesitan hacer para lograr la ganancia anterior son las siguientes:\n",
            "   - Inversión #1\n",
            "   - Inversión #2\n",
            "   - Inversión #3\n",
            "   - Inversión #5\n"
          ],
          "name": "stdout"
        }
      ]
    },
    {
      "cell_type": "markdown",
      "metadata": {
        "id": "h9GGWA_l00gw"
      },
      "source": [
        "### Resultados\n",
        "Escribe los resultados obtenidos de las variables de decisión y la función objetivo. ¿Qué recomendación se le daría al inversionista?"
      ]
    },
    {
      "cell_type": "markdown",
      "metadata": {
        "id": "sTDUB4ctQFk9"
      },
      "source": [
        "De acuerdo al modelo anterior, se le recomienda al inversionista hacer las inversiones #1, #2, #3 y #5, donde hará uso del total de su capital inicial (\\$ 17,000.00) y logrará una ganancia de \\$ 43,000.00, aumentando en \\$ 26,000.00 su capital."
      ]
    }
  ]
}