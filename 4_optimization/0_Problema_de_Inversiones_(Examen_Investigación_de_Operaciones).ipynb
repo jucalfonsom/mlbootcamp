{
  "nbformat": 4,
  "nbformat_minor": 0,
  "metadata": {
    "colab": {
      "provenance": []
    },
    "kernelspec": {
      "name": "python3",
      "display_name": "Python 3"
    }
  },
  "cells": [
    {
      "cell_type": "markdown",
      "metadata": {
        "id": "XTaFsT2ryrr-"
      },
      "source": [
        "# Descripción del problema\n",
        "Una persona puede invertir en 7 distintas inversiones. Cada una de ellas le ofrece una ganancia a un plazo de un año, pero requiere de un monto fijo a invertir, los detalles se muestran enseguida:\n",
        "\n",
        "|          | Inversión 1 | Inversión 2 | Inversión 3 | Inversión 4 | Inversión 5 | Inversión 6 | Inversión 7 |\n",
        "|---|---|---|---|---|---|---|---|\n",
        "|Ganancia (en miles de pesos) | 12| 8 | 17 | 11 |6 |2 | 2|\n",
        "|Monto a invertir (en miles de pesos) |4|3|7|5|3|2|3|\n",
        "\n",
        "Si la persona dispone únicamente de un capital de $17,000, ¿cuáles inversiones debe elegir para maximizar sus ganancias?"
      ]
    },
    {
      "cell_type": "markdown",
      "metadata": {
        "id": "cAz_tcLgzY1q"
      },
      "source": [
        "## 1. Realice la modelación del problema (8 pts)\n",
        "En cada una de las siguientes celdas, agregue una descripción correspondiente para explicar el contenido y la ecuación matemática que represente la parte del modelo en cuestión."
      ]
    },
    {
      "cell_type": "markdown",
      "metadata": {
        "id": "oWnhHNOADK8L"
      },
      "source": [
        "### Conjuntos\n",
        "$I$: Conjunto de las posibles inversiones que podemos realizar: {Inversión 1. Inversión 2, Inversión 3, Inversión 4, Inversión 5, Inversión 6, Inversión 7}. Representaremos respectivamente a $I$ como $$I=\\{1, 2, 3, 4, 5, 6, 7\\}$$ donde $i\\in I$ representa a uno de los elementos en $I$."
      ]
    },
    {
      "cell_type": "markdown",
      "metadata": {
        "id": "x8ktF6I8DGMo"
      },
      "source": [
        "### Parámetros\n",
        "Los parámetros considerados en el presente modelo son:\n",
        "* $P$: La cantidad disponible en miles de pesos para hacer las inversiones. $$P=17$$\n",
        "\n",
        "* $G_i$: La ganancia en miles de pesos que implica hacer la inversión $i\\in I$.\n",
        "\n",
        "* $M_i$: El monto inicial necesario para poder realizar la inversión $i\\in I$.\n",
        "\n",
        "Estos parámetros están presentes en la descripción del problema."
      ]
    },
    {
      "cell_type": "markdown",
      "metadata": {
        "id": "3UgOAlFRz2xU"
      },
      "source": [
        "### Variables de decisión\n",
        "La variable de decisión utilizada para este modelo será\n",
        "\\begin{equation}c_i = \\left \\{ \\begin{matrix} 1 & \\text{si se elige la inversión }i\n",
        "\\\\ 0 & \\text{si no}\\end{matrix}\\right.\\end{equation}"
      ]
    },
    {
      "cell_type": "markdown",
      "metadata": {
        "id": "StqlUyN9z_h3"
      },
      "source": [
        "### Función objetivo\n",
        "Maximizar ganancia en inversiones:\n",
        "$$\\text{max}\\sum_{i=1}^{7} c_i \\cdot G_i$$"
      ]
    },
    {
      "cell_type": "markdown",
      "metadata": {
        "id": "4OL5mceS0DPX"
      },
      "source": [
        "### Restricciones\n",
        "* La del monto disponible en miles de pesos para realizar las inversiones: $$\\sum_{i=1}^{7}c_i \\cdot M_i \\leq P$$"
      ]
    },
    {
      "cell_type": "markdown",
      "metadata": {
        "id": "g0551koa0HNH"
      },
      "source": [
        "## 2. Utilice la librería `pulp` para determinar la solución del modelo (4pts)\n",
        "En cada una de las siguientes celdas agregue el código indicado en el comentario"
      ]
    },
    {
      "cell_type": "markdown",
      "metadata": {
        "id": "r_KIkgWp93jc"
      },
      "source": [
        "### Instalar biblioteca `pulp`\n"
      ]
    },
    {
      "cell_type": "code",
      "source": [
        "import pandas as pd\n",
        "\n",
        "ProbInversion = pd.DataFrame()\n",
        "ProbInversion['Ganancia'] = [12, 8, 17, 11, 6, 2, 2]\n",
        "ProbInversion['Inversion_Inicial'] = [4, 3, 7, 5, 3, 2, 3]"
      ],
      "metadata": {
        "id": "as0IiVGNevIW"
      },
      "execution_count": null,
      "outputs": []
    },
    {
      "cell_type": "markdown",
      "metadata": {
        "id": "y1RBBiBq_mhG"
      },
      "source": [
        "Para verificar que los archivos fueron cargados correctamente, los mostramos dentro de nuestra Notebook de Python."
      ]
    },
    {
      "cell_type": "code",
      "metadata": {
        "id": "kRqXkRybAxAA",
        "outputId": "ad903d22-0ab9-47e0-ee2d-0497ef82e6d6",
        "colab": {
          "base_uri": "https://localhost:8080/",
          "height": 269
        }
      },
      "source": [
        "ProbInversion"
      ],
      "execution_count": null,
      "outputs": [
        {
          "output_type": "execute_result",
          "data": {
            "text/plain": [
              "   Ganancia  Inversion_Inicial\n",
              "0        12                  4\n",
              "1         8                  3\n",
              "2        17                  7\n",
              "3        11                  5\n",
              "4         6                  3\n",
              "5         2                  2\n",
              "6         2                  3"
            ],
            "text/html": [
              "\n",
              "  <div id=\"df-f51dfa57-7520-40fe-ae35-1455088da767\" class=\"colab-df-container\">\n",
              "    <div>\n",
              "<style scoped>\n",
              "    .dataframe tbody tr th:only-of-type {\n",
              "        vertical-align: middle;\n",
              "    }\n",
              "\n",
              "    .dataframe tbody tr th {\n",
              "        vertical-align: top;\n",
              "    }\n",
              "\n",
              "    .dataframe thead th {\n",
              "        text-align: right;\n",
              "    }\n",
              "</style>\n",
              "<table border=\"1\" class=\"dataframe\">\n",
              "  <thead>\n",
              "    <tr style=\"text-align: right;\">\n",
              "      <th></th>\n",
              "      <th>Ganancia</th>\n",
              "      <th>Inversion_Inicial</th>\n",
              "    </tr>\n",
              "  </thead>\n",
              "  <tbody>\n",
              "    <tr>\n",
              "      <th>0</th>\n",
              "      <td>12</td>\n",
              "      <td>4</td>\n",
              "    </tr>\n",
              "    <tr>\n",
              "      <th>1</th>\n",
              "      <td>8</td>\n",
              "      <td>3</td>\n",
              "    </tr>\n",
              "    <tr>\n",
              "      <th>2</th>\n",
              "      <td>17</td>\n",
              "      <td>7</td>\n",
              "    </tr>\n",
              "    <tr>\n",
              "      <th>3</th>\n",
              "      <td>11</td>\n",
              "      <td>5</td>\n",
              "    </tr>\n",
              "    <tr>\n",
              "      <th>4</th>\n",
              "      <td>6</td>\n",
              "      <td>3</td>\n",
              "    </tr>\n",
              "    <tr>\n",
              "      <th>5</th>\n",
              "      <td>2</td>\n",
              "      <td>2</td>\n",
              "    </tr>\n",
              "    <tr>\n",
              "      <th>6</th>\n",
              "      <td>2</td>\n",
              "      <td>3</td>\n",
              "    </tr>\n",
              "  </tbody>\n",
              "</table>\n",
              "</div>\n",
              "    <div class=\"colab-df-buttons\">\n",
              "\n",
              "  <div class=\"colab-df-container\">\n",
              "    <button class=\"colab-df-convert\" onclick=\"convertToInteractive('df-f51dfa57-7520-40fe-ae35-1455088da767')\"\n",
              "            title=\"Convert this dataframe to an interactive table.\"\n",
              "            style=\"display:none;\">\n",
              "\n",
              "  <svg xmlns=\"http://www.w3.org/2000/svg\" height=\"24px\" viewBox=\"0 -960 960 960\">\n",
              "    <path d=\"M120-120v-720h720v720H120Zm60-500h600v-160H180v160Zm220 220h160v-160H400v160Zm0 220h160v-160H400v160ZM180-400h160v-160H180v160Zm440 0h160v-160H620v160ZM180-180h160v-160H180v160Zm440 0h160v-160H620v160Z\"/>\n",
              "  </svg>\n",
              "    </button>\n",
              "\n",
              "  <style>\n",
              "    .colab-df-container {\n",
              "      display:flex;\n",
              "      gap: 12px;\n",
              "    }\n",
              "\n",
              "    .colab-df-convert {\n",
              "      background-color: #E8F0FE;\n",
              "      border: none;\n",
              "      border-radius: 50%;\n",
              "      cursor: pointer;\n",
              "      display: none;\n",
              "      fill: #1967D2;\n",
              "      height: 32px;\n",
              "      padding: 0 0 0 0;\n",
              "      width: 32px;\n",
              "    }\n",
              "\n",
              "    .colab-df-convert:hover {\n",
              "      background-color: #E2EBFA;\n",
              "      box-shadow: 0px 1px 2px rgba(60, 64, 67, 0.3), 0px 1px 3px 1px rgba(60, 64, 67, 0.15);\n",
              "      fill: #174EA6;\n",
              "    }\n",
              "\n",
              "    .colab-df-buttons div {\n",
              "      margin-bottom: 4px;\n",
              "    }\n",
              "\n",
              "    [theme=dark] .colab-df-convert {\n",
              "      background-color: #3B4455;\n",
              "      fill: #D2E3FC;\n",
              "    }\n",
              "\n",
              "    [theme=dark] .colab-df-convert:hover {\n",
              "      background-color: #434B5C;\n",
              "      box-shadow: 0px 1px 3px 1px rgba(0, 0, 0, 0.15);\n",
              "      filter: drop-shadow(0px 1px 2px rgba(0, 0, 0, 0.3));\n",
              "      fill: #FFFFFF;\n",
              "    }\n",
              "  </style>\n",
              "\n",
              "    <script>\n",
              "      const buttonEl =\n",
              "        document.querySelector('#df-f51dfa57-7520-40fe-ae35-1455088da767 button.colab-df-convert');\n",
              "      buttonEl.style.display =\n",
              "        google.colab.kernel.accessAllowed ? 'block' : 'none';\n",
              "\n",
              "      async function convertToInteractive(key) {\n",
              "        const element = document.querySelector('#df-f51dfa57-7520-40fe-ae35-1455088da767');\n",
              "        const dataTable =\n",
              "          await google.colab.kernel.invokeFunction('convertToInteractive',\n",
              "                                                    [key], {});\n",
              "        if (!dataTable) return;\n",
              "\n",
              "        const docLinkHtml = 'Like what you see? Visit the ' +\n",
              "          '<a target=\"_blank\" href=https://colab.research.google.com/notebooks/data_table.ipynb>data table notebook</a>'\n",
              "          + ' to learn more about interactive tables.';\n",
              "        element.innerHTML = '';\n",
              "        dataTable['output_type'] = 'display_data';\n",
              "        await google.colab.output.renderOutput(dataTable, element);\n",
              "        const docLink = document.createElement('div');\n",
              "        docLink.innerHTML = docLinkHtml;\n",
              "        element.appendChild(docLink);\n",
              "      }\n",
              "    </script>\n",
              "  </div>\n",
              "\n",
              "\n",
              "<div id=\"df-421a7044-cdf5-4e11-9202-6ba1aae6f2c6\">\n",
              "  <button class=\"colab-df-quickchart\" onclick=\"quickchart('df-421a7044-cdf5-4e11-9202-6ba1aae6f2c6')\"\n",
              "            title=\"Suggest charts.\"\n",
              "            style=\"display:none;\">\n",
              "\n",
              "<svg xmlns=\"http://www.w3.org/2000/svg\" height=\"24px\"viewBox=\"0 0 24 24\"\n",
              "     width=\"24px\">\n",
              "    <g>\n",
              "        <path d=\"M19 3H5c-1.1 0-2 .9-2 2v14c0 1.1.9 2 2 2h14c1.1 0 2-.9 2-2V5c0-1.1-.9-2-2-2zM9 17H7v-7h2v7zm4 0h-2V7h2v10zm4 0h-2v-4h2v4z\"/>\n",
              "    </g>\n",
              "</svg>\n",
              "  </button>\n",
              "\n",
              "<style>\n",
              "  .colab-df-quickchart {\n",
              "      --bg-color: #E8F0FE;\n",
              "      --fill-color: #1967D2;\n",
              "      --hover-bg-color: #E2EBFA;\n",
              "      --hover-fill-color: #174EA6;\n",
              "      --disabled-fill-color: #AAA;\n",
              "      --disabled-bg-color: #DDD;\n",
              "  }\n",
              "\n",
              "  [theme=dark] .colab-df-quickchart {\n",
              "      --bg-color: #3B4455;\n",
              "      --fill-color: #D2E3FC;\n",
              "      --hover-bg-color: #434B5C;\n",
              "      --hover-fill-color: #FFFFFF;\n",
              "      --disabled-bg-color: #3B4455;\n",
              "      --disabled-fill-color: #666;\n",
              "  }\n",
              "\n",
              "  .colab-df-quickchart {\n",
              "    background-color: var(--bg-color);\n",
              "    border: none;\n",
              "    border-radius: 50%;\n",
              "    cursor: pointer;\n",
              "    display: none;\n",
              "    fill: var(--fill-color);\n",
              "    height: 32px;\n",
              "    padding: 0;\n",
              "    width: 32px;\n",
              "  }\n",
              "\n",
              "  .colab-df-quickchart:hover {\n",
              "    background-color: var(--hover-bg-color);\n",
              "    box-shadow: 0 1px 2px rgba(60, 64, 67, 0.3), 0 1px 3px 1px rgba(60, 64, 67, 0.15);\n",
              "    fill: var(--button-hover-fill-color);\n",
              "  }\n",
              "\n",
              "  .colab-df-quickchart-complete:disabled,\n",
              "  .colab-df-quickchart-complete:disabled:hover {\n",
              "    background-color: var(--disabled-bg-color);\n",
              "    fill: var(--disabled-fill-color);\n",
              "    box-shadow: none;\n",
              "  }\n",
              "\n",
              "  .colab-df-spinner {\n",
              "    border: 2px solid var(--fill-color);\n",
              "    border-color: transparent;\n",
              "    border-bottom-color: var(--fill-color);\n",
              "    animation:\n",
              "      spin 1s steps(1) infinite;\n",
              "  }\n",
              "\n",
              "  @keyframes spin {\n",
              "    0% {\n",
              "      border-color: transparent;\n",
              "      border-bottom-color: var(--fill-color);\n",
              "      border-left-color: var(--fill-color);\n",
              "    }\n",
              "    20% {\n",
              "      border-color: transparent;\n",
              "      border-left-color: var(--fill-color);\n",
              "      border-top-color: var(--fill-color);\n",
              "    }\n",
              "    30% {\n",
              "      border-color: transparent;\n",
              "      border-left-color: var(--fill-color);\n",
              "      border-top-color: var(--fill-color);\n",
              "      border-right-color: var(--fill-color);\n",
              "    }\n",
              "    40% {\n",
              "      border-color: transparent;\n",
              "      border-right-color: var(--fill-color);\n",
              "      border-top-color: var(--fill-color);\n",
              "    }\n",
              "    60% {\n",
              "      border-color: transparent;\n",
              "      border-right-color: var(--fill-color);\n",
              "    }\n",
              "    80% {\n",
              "      border-color: transparent;\n",
              "      border-right-color: var(--fill-color);\n",
              "      border-bottom-color: var(--fill-color);\n",
              "    }\n",
              "    90% {\n",
              "      border-color: transparent;\n",
              "      border-bottom-color: var(--fill-color);\n",
              "    }\n",
              "  }\n",
              "</style>\n",
              "\n",
              "  <script>\n",
              "    async function quickchart(key) {\n",
              "      const quickchartButtonEl =\n",
              "        document.querySelector('#' + key + ' button');\n",
              "      quickchartButtonEl.disabled = true;  // To prevent multiple clicks.\n",
              "      quickchartButtonEl.classList.add('colab-df-spinner');\n",
              "      try {\n",
              "        const charts = await google.colab.kernel.invokeFunction(\n",
              "            'suggestCharts', [key], {});\n",
              "      } catch (error) {\n",
              "        console.error('Error during call to suggestCharts:', error);\n",
              "      }\n",
              "      quickchartButtonEl.classList.remove('colab-df-spinner');\n",
              "      quickchartButtonEl.classList.add('colab-df-quickchart-complete');\n",
              "    }\n",
              "    (() => {\n",
              "      let quickchartButtonEl =\n",
              "        document.querySelector('#df-421a7044-cdf5-4e11-9202-6ba1aae6f2c6 button');\n",
              "      quickchartButtonEl.style.display =\n",
              "        google.colab.kernel.accessAllowed ? 'block' : 'none';\n",
              "    })();\n",
              "  </script>\n",
              "</div>\n",
              "    </div>\n",
              "  </div>\n"
            ]
          },
          "metadata": {},
          "execution_count": 10
        }
      ]
    },
    {
      "cell_type": "markdown",
      "metadata": {
        "id": "9BltQjeWA4HG"
      },
      "source": [
        "Una vez cargados los datos, procederemos a instalar la biblioteca `pulp` en nuestra sesión de Colab. Importaremos las funciones `LpProblem`, `LpVariable`, `LpMaximize`, `LpStatus` y `lpSum`."
      ]
    },
    {
      "cell_type": "code",
      "metadata": {
        "id": "ZD3uymFb0YzI",
        "outputId": "e2912903-5b22-4e5b-9a8c-3f1c1eae10b5",
        "colab": {
          "base_uri": "https://localhost:8080/"
        }
      },
      "source": [
        "!pip install pulp\n",
        "from pulp import LpProblem, LpVariable, LpMaximize, LpStatus, lpSum"
      ],
      "execution_count": null,
      "outputs": [
        {
          "output_type": "stream",
          "name": "stdout",
          "text": [
            "Collecting pulp\n",
            "  Downloading PuLP-2.7.0-py3-none-any.whl (14.3 MB)\n",
            "\u001b[2K     \u001b[90m━━━━━━━━━━━━━━━━━━━━━━━━━━━━━━━━━━━━━━━━\u001b[0m \u001b[32m14.3/14.3 MB\u001b[0m \u001b[31m77.7 MB/s\u001b[0m eta \u001b[36m0:00:00\u001b[0m\n",
            "\u001b[?25hInstalling collected packages: pulp\n",
            "Successfully installed pulp-2.7.0\n"
          ]
        }
      ]
    },
    {
      "cell_type": "markdown",
      "metadata": {
        "id": "u3x4HMzdB9gF"
      },
      "source": [
        "### Declarar el modelo y añadir todos sus parámetros y restricciones\n",
        "Ahora procederemos a **crear nuestro modelo principal**, el de maximizar la ganancia de nuestras inversiones. Como vamos a maximizar, al parámetro `sense` lo pondremos como `sense=LpMaximize`."
      ]
    },
    {
      "cell_type": "code",
      "metadata": {
        "id": "KYMpB3I00f5t"
      },
      "source": [
        "# Escribe aquí la declaración del modelo\n",
        "modelo = LpProblem(\"Modelo_Inversiones\", sense=LpMaximize)"
      ],
      "execution_count": null,
      "outputs": []
    },
    {
      "cell_type": "markdown",
      "metadata": {
        "id": "5jZM7AkjRAOn"
      },
      "source": [
        "Una vez creado nuestro modelo, necesitaremos **declarar nuestros parámetros** $G_i$ y $M_i$ y tomar sus datos del documento importado y añadirlo a nuestro modelo. Recordemos que `i` representa alguna inversión $i∈I$."
      ]
    },
    {
      "cell_type": "code",
      "metadata": {
        "id": "Pb6C2GmUKJq0"
      },
      "source": [
        "# Escribe aquí los parámetros del modelo\n",
        "var_G = {i: LpVariable(name=f\"G_{i+1}\") for i in range(7)}\n",
        "var_M = {i: LpVariable(name=f\"M_{i+1}\") for i in range(7)}\n",
        "for i in range(7):\n",
        "  var_G[i] = ProbInversion.Ganancia.iloc[i]\n",
        "  var_M[i] = ProbInversion.Inversion_Inicial.iloc[i]"
      ],
      "execution_count": null,
      "outputs": []
    },
    {
      "cell_type": "markdown",
      "metadata": {
        "id": "bacfCW33Tj4p"
      },
      "source": [
        "Declaramos nuestra **variable de decisión** $c_i$, donde `i` representa a alguna inversión $i \\in I$."
      ]
    },
    {
      "cell_type": "code",
      "metadata": {
        "id": "tmPWUHF70o7b"
      },
      "source": [
        "# Escribe aquí las variables de decisión\n",
        "var_c = {i: LpVariable(name=f\"c_{i+1}\", cat='Binary') for i in range(7)}"
      ],
      "execution_count": null,
      "outputs": []
    },
    {
      "cell_type": "markdown",
      "metadata": {
        "id": "jZUz5EwPSSUt"
      },
      "source": [
        "Una vez declaradas las variables y parámetros, añadiremos a nuestro modelo **la restricción** que definimos anteriormente."
      ]
    },
    {
      "cell_type": "code",
      "metadata": {
        "id": "Ap5p9Mw60tPS"
      },
      "source": [
        "# Escribe aquí las restricciones\n",
        "modelo += lpSum(var_c[i] * var_M[i] for i in range(7)) <= 17"
      ],
      "execution_count": null,
      "outputs": []
    },
    {
      "cell_type": "markdown",
      "metadata": {
        "id": "opb6S_ypS1lp"
      },
      "source": [
        "Ahora procederemos a añadir en nuestro modelo la **función objetivo** a la que queremos encontrarle solución y lo resolvemos utilizando la función `.solve()`. Guardamos nuestro modelo en la variable `solucion`. Verificamos que la solución sea óptima con la función `LpStatus`."
      ]
    },
    {
      "cell_type": "code",
      "metadata": {
        "id": "uIINWkPQ0wO0",
        "outputId": "ce4146e3-cb81-4a7f-9810-907ac05f0bb3",
        "colab": {
          "base_uri": "https://localhost:8080/",
          "height": 35
        }
      },
      "source": [
        "# Escribe aquí la función objetivo\n",
        "modelo += lpSum(var_c[i] * var_G[i] for i in range(7))\n",
        "solucion = modelo.solve()\n",
        "LpStatus[solucion]"
      ],
      "execution_count": null,
      "outputs": [
        {
          "output_type": "execute_result",
          "data": {
            "text/plain": [
              "'Optimal'"
            ],
            "application/vnd.google.colaboratory.intrinsic+json": {
              "type": "string"
            }
          },
          "metadata": {},
          "execution_count": 16
        }
      ]
    },
    {
      "cell_type": "markdown",
      "metadata": {
        "id": "f2vD8_IOTQ7d"
      },
      "source": [
        "Imprimimos los resultados de nuestro modelo y las inversiones que se necesitan hacer para lograr maximizar las ganancias."
      ]
    },
    {
      "cell_type": "code",
      "metadata": {
        "id": "Tu8rOdKEN-zA",
        "outputId": "56b79245-c6e0-4ec2-8935-e8295ba0aac1",
        "colab": {
          "base_uri": "https://localhost:8080/"
        }
      },
      "source": [
        "#Mayor ganancia al invertir los $ 17,000 de acuerdo con nuestro modelo\n",
        "inversion = 0\n",
        "for i in range(7):\n",
        "  inversion = var_c[i].value() * var_M[i] + inversion\n",
        "print(f\"La ganancia al haber hecho las inversiones es de:  $\", modelo.objective.value() * 1000)\n",
        "print(f\"Se realizó una inversión inicial de:  $\", inversion * 1000)\n",
        "print(\"Las inversiones que se necesitan hacer para lograr la ganancia anterior son las siguientes:\")\n",
        "for i in range(7):\n",
        "  if(var_c[i].value() == 1):\n",
        "    print(f\"   - Inversión #{i+1}\")"
      ],
      "execution_count": null,
      "outputs": [
        {
          "output_type": "stream",
          "name": "stdout",
          "text": [
            "La ganancia al haber hecho las inversiones es de:  $ 43000.0\n",
            "Se realizó una inversión inicial de:  $ 17000.0\n",
            "Las inversiones que se necesitan hacer para lograr la ganancia anterior son las siguientes:\n",
            "   - Inversión #1\n",
            "   - Inversión #2\n",
            "   - Inversión #3\n",
            "   - Inversión #5\n"
          ]
        }
      ]
    },
    {
      "cell_type": "markdown",
      "metadata": {
        "id": "h9GGWA_l00gw"
      },
      "source": [
        "### Resultados\n",
        "Escribe los resultados obtenidos de las variables de decisión y la función objetivo. ¿Qué recomendación se le daría al inversionista?"
      ]
    },
    {
      "cell_type": "markdown",
      "metadata": {
        "id": "sTDUB4ctQFk9"
      },
      "source": [
        "De acuerdo al modelo anterior, se le recomienda al inversionista hacer las inversiones #1, #2, #3 y #5, donde hará uso del total de su capital inicial (\\$ 17,000.00) y logrará una ganancia de \\$ 43,000.00, aumentando en \\$ 26,000.00 su capital."
      ]
    }
  ]
}